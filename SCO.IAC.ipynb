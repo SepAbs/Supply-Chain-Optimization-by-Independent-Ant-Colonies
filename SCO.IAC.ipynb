{
 "cells": [
  {
   "cell_type": "markdown",
   "metadata": {},
   "source": [
    "# Abbaspour - 610398147 - HW3 - SCO by IAC\n",
    "# Problem\n",
    "We're going to solve SCO problem using Independent Ant Colonies algortihm.\n",
    "Unfortunately this implementation is constructed at the start of using dataset and no more!"
   ]
  },
  {
   "cell_type": "code",
   "execution_count": null,
   "metadata": {},
   "outputs": [],
   "source": [
    "from numpy import arange, ones, random\n",
    "from pandas import read_csv #, ...\n",
    "\n",
    "# Dataset & Parameters\n",
    "df, numberAnts, numberIterations, Decay, Alpha, Beta = read_csv(\"Supply chain logisitcs problem.csv\"), 5, 10, 0.8, 1, 1\n",
    "\n",
    "# distanceMatrix = ..."
   ]
  },
  {
   "cell_type": "markdown",
   "metadata": {},
   "source": [
    "# Choosing Next Node\n",
    "This function chooses the next node using possibilities."
   ]
  },
  {
   "cell_type": "code",
   "execution_count": null,
   "metadata": {},
   "outputs": [],
   "source": [
    "def chooseNext(Current, Pheromone, distanceMatrix):\n",
    "    Probabilities = Pheromone[Current] ** Alpha * (1. / distanceMatrix[Current]) ** Beta\n",
    "    Probabilities /= Probabilities.sum()\n",
    "    # Next\n",
    "    return random.choice(arange(distanceMatrix.shape[0]), p = Probabilities)"
   ]
  },
  {
   "cell_type": "markdown",
   "metadata": {},
   "source": [
    "# Updating Pheromones\n",
    "This function updating pheromones based on available pheromones and solutions and also best current solution."
   ]
  },
  {
   "cell_type": "code",
   "execution_count": null,
   "metadata": {},
   "outputs": [],
   "source": [
    "def updatePheromone(Pheromone, Solutions, bestSolution):\n",
    "    Pheromone *= Decay\n",
    "    for Path, Length in Solutions:\n",
    "        for i in range(len(Path) - 1):\n",
    "            Pheromone[Path[i], Path[i + 1]] += 1. / Length\n",
    "    bestPath, bestLength = bestSolution\n",
    "    \n",
    "    for i in range(len(best_path) - 1):\n",
    "        Pheromone[bestPath[i], bestPath[i + 1]] += 1. / bestLength\n",
    "    return Pheromone"
   ]
  },
  {
   "cell_type": "markdown",
   "metadata": {},
   "source": [
    "# Algorithm Implementation\n",
    "Here we implement Independent Ant Colonies algortihm.\n",
    "For each ant, it constructs solution based on local pheromones which equals global pheromone and then, become updated.\n",
    "After that, it finds the best solution of the iteration and update global pheromone update based on best solution.\n",
    "Main challenge was to updating local pheromones.\n"
   ]
  },
  {
   "cell_type": "code",
   "execution_count": null,
   "metadata": {},
   "outputs": [],
   "source": [
    "def IAC(distanceMatrix):\n",
    "    # Initialize pheromones\n",
    "    Pheromone = ones(distanceMatrix.shape) / len(distanceMatrix)\n",
    "    for Iteration in range(numberIterations):\n",
    "        Solutions = []\n",
    "        for i in range(numberAnts):\n",
    "            Path = [random.randint(0, distanceMatrix.shape[0])]\n",
    "            while len(Path) < distanceMatrix.shape[0]:\n",
    "                Next = chooseNext(Path[-1], Pheromone, distanceMatrix)\n",
    "                if Next not in Path:\n",
    "                    Path.append(Next)\n",
    "                else:\n",
    "                    break\n",
    "            # Calculate the path length\n",
    "            Solutions.append((Path, sum(distanceMatrix[path[i], Path[i + 1]] for i in range(len(Path) - 1))))\n",
    "        \n",
    "        # Find the best solution of the iteration and update global pheromone update based on best solution.\n",
    "        bestSolution = min(Solutions, key = lambda x: x[1])\n",
    "        Pheromone = updatePheromone(Pheromone, Solutions, bestSolution)"
   ]
  },
  {
   "cell_type": "markdown",
   "metadata": {},
   "source": [
    "# Test\n",
    "Testing time!"
   ]
  },
  {
   "cell_type": "code",
   "execution_count": null,
   "metadata": {},
   "outputs": [],
   "source": [
    "# main()\n",
    "# IAC(distanceMatrix)"
   ]
  }
 ],
 "metadata": {
  "language_info": {
   "name": "python"
  }
 },
 "nbformat": 4,
 "nbformat_minor": 2
}
